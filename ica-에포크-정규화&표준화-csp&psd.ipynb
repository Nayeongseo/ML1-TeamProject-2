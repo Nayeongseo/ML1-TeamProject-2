{
  "nbformat": 4,
  "nbformat_minor": 0,
  "metadata": {
    "colab": {
      "provenance": [],
      "authorship_tag": "ABX9TyNjB2Q3JR+hwn5yFnhAEn8o",
      "include_colab_link": true
    },
    "kernelspec": {
      "name": "python3",
      "display_name": "Python 3"
    },
    "language_info": {
      "name": "python"
    }
  },
  "cells": [
    {
      "cell_type": "markdown",
      "metadata": {
        "id": "view-in-github",
        "colab_type": "text"
      },
      "source": [
        "<a href=\"https://colab.research.google.com/github/Nayeongseo/ML1-TeamProject-2/blob/main/ica-%EC%97%90%ED%8F%AC%ED%81%AC-%EC%A0%95%EA%B7%9C%ED%99%94%26%ED%91%9C%EC%A4%80%ED%99%94-csp%26psd.ipynb\" target=\"_parent\"><img src=\"https://colab.research.google.com/assets/colab-badge.svg\" alt=\"Open In Colab\"/></a>"
      ]
    },
    {
      "cell_type": "code",
      "source": [
        "!pip install mne"
      ],
      "metadata": {
        "colab": {
          "base_uri": "https://localhost:8080/"
        },
        "collapsed": true,
        "id": "ZHXVGY4MsTIg",
        "outputId": "36f66b4f-2dec-4596-b115-ee32fef5a39d"
      },
      "execution_count": 52,
      "outputs": [
        {
          "output_type": "stream",
          "name": "stdout",
          "text": [
            "Collecting mne\n",
            "  Downloading mne-1.7.0-py3-none-any.whl (7.4 MB)\n",
            "\u001b[2K     \u001b[90m━━━━━━━━━━━━━━━━━━━━━━━━━━━━━━━━━━━━━━━━\u001b[0m \u001b[32m7.4/7.4 MB\u001b[0m \u001b[31m15.4 MB/s\u001b[0m eta \u001b[36m0:00:00\u001b[0m\n",
            "\u001b[?25hRequirement already satisfied: decorator in /usr/local/lib/python3.10/dist-packages (from mne) (4.4.2)\n",
            "Requirement already satisfied: jinja2 in /usr/local/lib/python3.10/dist-packages (from mne) (3.1.4)\n",
            "Requirement already satisfied: lazy-loader>=0.3 in /usr/local/lib/python3.10/dist-packages (from mne) (0.4)\n",
            "Requirement already satisfied: matplotlib>=3.5.0 in /usr/local/lib/python3.10/dist-packages (from mne) (3.7.1)\n",
            "Requirement already satisfied: numpy>=1.21.2 in /usr/local/lib/python3.10/dist-packages (from mne) (1.25.2)\n",
            "Requirement already satisfied: packaging in /usr/local/lib/python3.10/dist-packages (from mne) (24.0)\n",
            "Requirement already satisfied: pooch>=1.5 in /usr/local/lib/python3.10/dist-packages (from mne) (1.8.1)\n",
            "Requirement already satisfied: scipy>=1.7.1 in /usr/local/lib/python3.10/dist-packages (from mne) (1.11.4)\n",
            "Requirement already satisfied: tqdm in /usr/local/lib/python3.10/dist-packages (from mne) (4.66.4)\n",
            "Requirement already satisfied: contourpy>=1.0.1 in /usr/local/lib/python3.10/dist-packages (from matplotlib>=3.5.0->mne) (1.2.1)\n",
            "Requirement already satisfied: cycler>=0.10 in /usr/local/lib/python3.10/dist-packages (from matplotlib>=3.5.0->mne) (0.12.1)\n",
            "Requirement already satisfied: fonttools>=4.22.0 in /usr/local/lib/python3.10/dist-packages (from matplotlib>=3.5.0->mne) (4.51.0)\n",
            "Requirement already satisfied: kiwisolver>=1.0.1 in /usr/local/lib/python3.10/dist-packages (from matplotlib>=3.5.0->mne) (1.4.5)\n",
            "Requirement already satisfied: pillow>=6.2.0 in /usr/local/lib/python3.10/dist-packages (from matplotlib>=3.5.0->mne) (9.4.0)\n",
            "Requirement already satisfied: pyparsing>=2.3.1 in /usr/local/lib/python3.10/dist-packages (from matplotlib>=3.5.0->mne) (3.1.2)\n",
            "Requirement already satisfied: python-dateutil>=2.7 in /usr/local/lib/python3.10/dist-packages (from matplotlib>=3.5.0->mne) (2.8.2)\n",
            "Requirement already satisfied: platformdirs>=2.5.0 in /usr/local/lib/python3.10/dist-packages (from pooch>=1.5->mne) (4.2.2)\n",
            "Requirement already satisfied: requests>=2.19.0 in /usr/local/lib/python3.10/dist-packages (from pooch>=1.5->mne) (2.31.0)\n",
            "Requirement already satisfied: MarkupSafe>=2.0 in /usr/local/lib/python3.10/dist-packages (from jinja2->mne) (2.1.5)\n",
            "Requirement already satisfied: six>=1.5 in /usr/local/lib/python3.10/dist-packages (from python-dateutil>=2.7->matplotlib>=3.5.0->mne) (1.16.0)\n",
            "Requirement already satisfied: charset-normalizer<4,>=2 in /usr/local/lib/python3.10/dist-packages (from requests>=2.19.0->pooch>=1.5->mne) (3.3.2)\n",
            "Requirement already satisfied: idna<4,>=2.5 in /usr/local/lib/python3.10/dist-packages (from requests>=2.19.0->pooch>=1.5->mne) (3.7)\n",
            "Requirement already satisfied: urllib3<3,>=1.21.1 in /usr/local/lib/python3.10/dist-packages (from requests>=2.19.0->pooch>=1.5->mne) (2.0.7)\n",
            "Requirement already satisfied: certifi>=2017.4.17 in /usr/local/lib/python3.10/dist-packages (from requests>=2.19.0->pooch>=1.5->mne) (2024.2.2)\n",
            "Installing collected packages: mne\n",
            "Successfully installed mne-1.7.0\n"
          ]
        }
      ]
    },
    {
      "cell_type": "code",
      "execution_count": 62,
      "metadata": {
        "id": "cv-yCPND61x2"
      },
      "outputs": [],
      "source": [
        "import pandas as pd\n",
        "import numpy as np\n",
        "import matplotlib.pyplot as plt\n",
        "import seaborn as sns\n",
        "from scipy.signal import welch\n",
        "import scipy.signal as signal\n",
        "from sklearn.preprocessing import StandardScaler\n",
        "from sklearn.ensemble import RandomForestClassifier\n",
        "from sklearn.model_selection import KFold, cross_val_score\n",
        "from sklearn.model_selection import train_test_split\n",
        "from sklearn.metrics import accuracy_score\n",
        "from sklearn.manifold import TSNE\n",
        "from sklearn.decomposition import FastICA\n",
        "from sklearn.preprocessing import MinMaxScaler\n",
        "from mne.decoding import CSP"
      ]
    },
    {
      "cell_type": "markdown",
      "source": [
        "# train data의 input과 label 추출"
      ],
      "metadata": {
        "id": "0axw3lzfFGjY"
      }
    },
    {
      "cell_type": "code",
      "source": [
        "train_path = np.load('train.npy', allow_pickle='TRUE')"
      ],
      "metadata": {
        "id": "CTwR0ruh7YWs"
      },
      "execution_count": 15,
      "outputs": []
    },
    {
      "cell_type": "code",
      "source": [
        "print(f\"Value: {train_path}\")"
      ],
      "metadata": {
        "colab": {
          "base_uri": "https://localhost:8080/"
        },
        "collapsed": true,
        "id": "mGxcUJC0MUJd",
        "outputId": "aebef203-6a3d-40f7-ad5d-4035eae87c96"
      },
      "execution_count": 16,
      "outputs": [
        {
          "output_type": "stream",
          "name": "stdout",
          "text": [
            "Value: {'input': array([[[[  3.80859375,  -2.63671875, -10.64453125, ...,  -6.39648438,\n",
            "           -2.34375   ,  -7.56835938],\n",
            "         [  3.66210938,  -2.49023438,  -8.0078125 , ...,  -4.15039062,\n",
            "           -2.39257812,  -7.66601562],\n",
            "         [  2.9296875 ,  -5.22460938, -12.45117188, ...,  -7.2265625 ,\n",
            "           -4.6875    , -10.88867188],\n",
            "         ...,\n",
            "         [  2.97851562,  -7.91015625,  -9.375     , ...,  -7.421875  ,\n",
            "           -7.47070312, -15.57617188],\n",
            "         [  4.73632812,  -6.93359375,  -8.93554688, ...,  -5.95703125,\n",
            "           -5.61523438, -12.3046875 ],\n",
            "         [  1.5625    ,  -9.22851562,  -9.08203125, ...,  -4.19921875,\n",
            "           -5.76171875, -12.98828125]]],\n",
            "\n",
            "\n",
            "       [[[ -6.20117188,   1.51367188,   4.00390625, ...,  -3.36914062,\n",
            "           -8.83789062,  -9.91210938],\n",
            "         [-10.44921875,  -5.61523438,   0.83007812, ...,  -9.1796875 ,\n",
            "          -12.109375  , -14.11132812],\n",
            "         [ -6.68945312,   0.53710938,   4.58984375, ...,  -5.859375  ,\n",
            "          -10.9375    , -10.9375    ],\n",
            "         ...,\n",
            "         [  9.1796875 ,  12.45117188,  17.72460938, ...,   3.07617188,\n",
            "           -1.66015625,  -4.98046875],\n",
            "         [  9.13085938,  13.33007812,  16.74804688, ...,   7.03125   ,\n",
            "            2.1484375 ,  -0.14648438],\n",
            "         [  7.12890625,   9.9609375 ,  12.5       , ...,   5.71289062,\n",
            "            0.09765625,  -3.41796875]]],\n",
            "\n",
            "\n",
            "       [[[  8.93554688,   7.47070312,  11.08398438, ...,  -0.29296875,\n",
            "            0.87890625,   4.4921875 ],\n",
            "         [  4.63867188,   5.46875   ,  11.37695312, ...,  -0.34179688,\n",
            "           -0.1953125 ,   3.3203125 ],\n",
            "         [  8.25195312,   6.4453125 ,  11.9140625 , ...,   3.80859375,\n",
            "            1.85546875,   5.81054688],\n",
            "         ...,\n",
            "         [  5.02929688,   4.8828125 ,  12.59765625, ...,   2.78320312,\n",
            "            0.78125   ,   4.93164062],\n",
            "         [  3.85742188,   4.05273438,  13.81835938, ...,   3.22265625,\n",
            "            1.3671875 ,   6.15234375],\n",
            "         [  2.05078125,   1.07421875,  10.546875  , ...,   0.87890625,\n",
            "           -2.9296875 ,   0.34179688]]],\n",
            "\n",
            "\n",
            "       ...,\n",
            "\n",
            "\n",
            "       [[[  6.20117188,  12.3046875 ,  12.01171875, ..., -10.9375    ,\n",
            "           -4.73632812,  -5.6640625 ],\n",
            "         [  2.58789062,  11.66992188,  12.109375  , ...,  -7.08007812,\n",
            "           -7.66601562,  -4.34570312],\n",
            "         [  4.8828125 ,  12.890625  ,  11.18164062, ..., -10.88867188,\n",
            "           -6.8359375 ,  -7.6171875 ],\n",
            "         ...,\n",
            "         [ 11.62109375,  19.43359375,  22.265625  , ...,  -6.39648438,\n",
            "           -3.125     ,  -6.59179688],\n",
            "         [ 14.50195312,  22.265625  ,  26.41601562, ..., -13.96484375,\n",
            "          -12.06054688, -15.33203125],\n",
            "         [ 16.50390625,  26.171875  ,  30.859375  , ...,  -6.54296875,\n",
            "           -4.98046875,  -8.203125  ]]],\n",
            "\n",
            "\n",
            "       [[[ 20.703125  ,  17.33398438,  15.18554688, ...,  -6.640625  ,\n",
            "           -5.17578125,  -3.46679688],\n",
            "         [ 28.41796875,  27.24609375,  27.97851562, ..., -10.9375    ,\n",
            "          -14.30664062,  -8.74023438],\n",
            "         [ 24.85351562,  22.36328125,  20.45898438, ..., -10.9375    ,\n",
            "           -9.81445312,  -7.08007812],\n",
            "         ...,\n",
            "         [ 21.58203125,  15.625     ,  10.83984375, ...,  -9.5703125 ,\n",
            "          -12.06054688, -13.671875  ],\n",
            "         [ 20.60546875,  13.81835938,   9.91210938, ...,  -6.00585938,\n",
            "          -10.25390625, -11.23046875],\n",
            "         [ 20.94726562,  16.69921875,  13.76953125, ..., -13.81835938,\n",
            "          -22.02148438, -24.609375  ]]],\n",
            "\n",
            "\n",
            "       [[[ -6.39648438,  -7.51953125, -10.7421875 , ...,   4.6875    ,\n",
            "            0.390625  ,   4.93164062],\n",
            "         [ -4.8828125 ,  -8.44726562, -11.81640625, ...,   9.61914062,\n",
            "           11.1328125 ,  12.35351562],\n",
            "         [ -5.078125  ,  -8.10546875, -11.27929688, ...,   7.37304688,\n",
            "            4.63867188,  10.15625   ],\n",
            "         ...,\n",
            "         [  2.44140625,   5.81054688,   6.8359375 , ...,   5.6640625 ,\n",
            "            5.078125  ,   8.34960938],\n",
            "         [  5.22460938,   9.42382812,  12.01171875, ...,   5.2734375 ,\n",
            "            1.51367188,   2.78320312],\n",
            "         [ 12.45117188,  17.72460938,  20.01953125, ...,   9.32617188,\n",
            "           10.44921875,  16.06445312]]]]), 'label': array([[0., 0., 0., 1.],\n",
            "       [0., 0., 1., 0.],\n",
            "       [0., 1., 0., 0.],\n",
            "       ...,\n",
            "       [0., 0., 1., 0.],\n",
            "       [1., 0., 0., 0.],\n",
            "       [0., 0., 1., 0.]], dtype=float32)}\n"
          ]
        }
      ]
    },
    {
      "cell_type": "code",
      "source": [
        "# train_path에서 'input'과 'label' 데이터 추출\n",
        "train_input = train_path.item()['input']\n",
        "train_label = train_path.item()['label']\n",
        "\n",
        "# 'input' 데이터의 형태 확인\n",
        "print(\"Shape of 'input' data:\", train_input.shape)\n",
        "\n",
        "# 'input' 데이터를 4차원 배열로 변환\n",
        "num_samples = train_input.shape[0]  # 샘플 수\n",
        "num_channels = 1  # 채널 수 (EEG 데이터의 경우 채널이 하나이므로 1)\n",
        "num_time_steps = train_input.shape[2]  # 시간 단계 수\n",
        "num_features = train_input.shape[3]  # 특징 수\n",
        "\n",
        "# 4차원 배열을 생성하여 데이터 복사\n",
        "train_input_4d = np.zeros((num_samples, num_channels, num_time_steps, num_features))\n",
        "for i in range(num_samples):\n",
        "    train_input_4d[i, 0, :, :] = train_input[i, 0, :, :]\n",
        "\n",
        "# 변환된 'input' 데이터의 형태 확인\n",
        "print(\"Shape of 'input' data (4D):\", train_input_4d.shape)\n",
        "\n",
        "# 'label' 데이터의 형태 확인\n",
        "print(\"Shape of 'label' data:\", train_label.shape)"
      ],
      "metadata": {
        "colab": {
          "base_uri": "https://localhost:8080/"
        },
        "id": "0D-hedMNT34Z",
        "outputId": "188c1a19-7f97-46cc-d8e1-9f6626d7bd0e"
      },
      "execution_count": 34,
      "outputs": [
        {
          "output_type": "stream",
          "name": "stdout",
          "text": [
            "Shape of 'input' data: (4608, 1, 22, 1125)\n",
            "Shape of 'input' data (4D): (4608, 1, 22, 1125)\n",
            "Shape of 'label' data: (4608, 4)\n"
          ]
        }
      ]
    },
    {
      "cell_type": "code",
      "source": [
        "print(train_input_4d)"
      ],
      "metadata": {
        "colab": {
          "base_uri": "https://localhost:8080/"
        },
        "collapsed": true,
        "id": "jeXPQ_XDYWPi",
        "outputId": "8005cf81-ff5b-4333-ee4d-7cfaa99b136f"
      },
      "execution_count": null,
      "outputs": [
        {
          "output_type": "stream",
          "name": "stdout",
          "text": [
            "[[[[  3.80859375  -2.63671875 -10.64453125 ...  -6.39648438\n",
            "     -2.34375     -7.56835938]\n",
            "   [  3.66210938  -2.49023438  -8.0078125  ...  -4.15039062\n",
            "     -2.39257812  -7.66601562]\n",
            "   [  2.9296875   -5.22460938 -12.45117188 ...  -7.2265625\n",
            "     -4.6875     -10.88867188]\n",
            "   ...\n",
            "   [  2.97851562  -7.91015625  -9.375      ...  -7.421875\n",
            "     -7.47070312 -15.57617188]\n",
            "   [  4.73632812  -6.93359375  -8.93554688 ...  -5.95703125\n",
            "     -5.61523438 -12.3046875 ]\n",
            "   [  1.5625      -9.22851562  -9.08203125 ...  -4.19921875\n",
            "     -5.76171875 -12.98828125]]]\n",
            "\n",
            "\n",
            " [[[ -6.20117188   1.51367188   4.00390625 ...  -3.36914062\n",
            "     -8.83789062  -9.91210938]\n",
            "   [-10.44921875  -5.61523438   0.83007812 ...  -9.1796875\n",
            "    -12.109375   -14.11132812]\n",
            "   [ -6.68945312   0.53710938   4.58984375 ...  -5.859375\n",
            "    -10.9375     -10.9375    ]\n",
            "   ...\n",
            "   [  9.1796875   12.45117188  17.72460938 ...   3.07617188\n",
            "     -1.66015625  -4.98046875]\n",
            "   [  9.13085938  13.33007812  16.74804688 ...   7.03125\n",
            "      2.1484375   -0.14648438]\n",
            "   [  7.12890625   9.9609375   12.5        ...   5.71289062\n",
            "      0.09765625  -3.41796875]]]\n",
            "\n",
            "\n",
            " [[[  8.93554688   7.47070312  11.08398438 ...  -0.29296875\n",
            "      0.87890625   4.4921875 ]\n",
            "   [  4.63867188   5.46875     11.37695312 ...  -0.34179688\n",
            "     -0.1953125    3.3203125 ]\n",
            "   [  8.25195312   6.4453125   11.9140625  ...   3.80859375\n",
            "      1.85546875   5.81054688]\n",
            "   ...\n",
            "   [  5.02929688   4.8828125   12.59765625 ...   2.78320312\n",
            "      0.78125      4.93164062]\n",
            "   [  3.85742188   4.05273438  13.81835938 ...   3.22265625\n",
            "      1.3671875    6.15234375]\n",
            "   [  2.05078125   1.07421875  10.546875   ...   0.87890625\n",
            "     -2.9296875    0.34179688]]]\n",
            "\n",
            "\n",
            " ...\n",
            "\n",
            "\n",
            " [[[  6.20117188  12.3046875   12.01171875 ... -10.9375\n",
            "     -4.73632812  -5.6640625 ]\n",
            "   [  2.58789062  11.66992188  12.109375   ...  -7.08007812\n",
            "     -7.66601562  -4.34570312]\n",
            "   [  4.8828125   12.890625    11.18164062 ... -10.88867188\n",
            "     -6.8359375   -7.6171875 ]\n",
            "   ...\n",
            "   [ 11.62109375  19.43359375  22.265625   ...  -6.39648438\n",
            "     -3.125       -6.59179688]\n",
            "   [ 14.50195312  22.265625    26.41601562 ... -13.96484375\n",
            "    -12.06054688 -15.33203125]\n",
            "   [ 16.50390625  26.171875    30.859375   ...  -6.54296875\n",
            "     -4.98046875  -8.203125  ]]]\n",
            "\n",
            "\n",
            " [[[ 20.703125    17.33398438  15.18554688 ...  -6.640625\n",
            "     -5.17578125  -3.46679688]\n",
            "   [ 28.41796875  27.24609375  27.97851562 ... -10.9375\n",
            "    -14.30664062  -8.74023438]\n",
            "   [ 24.85351562  22.36328125  20.45898438 ... -10.9375\n",
            "     -9.81445312  -7.08007812]\n",
            "   ...\n",
            "   [ 21.58203125  15.625       10.83984375 ...  -9.5703125\n",
            "    -12.06054688 -13.671875  ]\n",
            "   [ 20.60546875  13.81835938   9.91210938 ...  -6.00585938\n",
            "    -10.25390625 -11.23046875]\n",
            "   [ 20.94726562  16.69921875  13.76953125 ... -13.81835938\n",
            "    -22.02148438 -24.609375  ]]]\n",
            "\n",
            "\n",
            " [[[ -6.39648438  -7.51953125 -10.7421875  ...   4.6875\n",
            "      0.390625     4.93164062]\n",
            "   [ -4.8828125   -8.44726562 -11.81640625 ...   9.61914062\n",
            "     11.1328125   12.35351562]\n",
            "   [ -5.078125    -8.10546875 -11.27929688 ...   7.37304688\n",
            "      4.63867188  10.15625   ]\n",
            "   ...\n",
            "   [  2.44140625   5.81054688   6.8359375  ...   5.6640625\n",
            "      5.078125     8.34960938]\n",
            "   [  5.22460938   9.42382812  12.01171875 ...   5.2734375\n",
            "      1.51367188   2.78320312]\n",
            "   [ 12.45117188  17.72460938  20.01953125 ...   9.32617188\n",
            "     10.44921875  16.06445312]]]]\n"
          ]
        }
      ]
    },
    {
      "cell_type": "code",
      "source": [
        "train_input_3d = train_input_4d.squeeze()\n",
        "print(train_input_3d.shape)"
      ],
      "metadata": {
        "colab": {
          "base_uri": "https://localhost:8080/"
        },
        "id": "0AA76GmrXT9f",
        "outputId": "fd5e2e0e-e89a-4ffe-9e8b-5683305657a1"
      },
      "execution_count": 35,
      "outputs": [
        {
          "output_type": "stream",
          "name": "stdout",
          "text": [
            "(4608, 22, 1125)\n"
          ]
        }
      ]
    },
    {
      "cell_type": "markdown",
      "source": [
        "# test data의 input 추출"
      ],
      "metadata": {
        "id": "crmjkfR_EmW0"
      }
    },
    {
      "cell_type": "code",
      "source": [
        "test_path = np.load('test.npy', allow_pickle='TRUE')"
      ],
      "metadata": {
        "id": "FitELOaO7xk1"
      },
      "execution_count": 2,
      "outputs": []
    },
    {
      "cell_type": "code",
      "source": [
        "# 'input' 데이터만 추출하여 test 데이터 생성\n",
        "test_4d = test_path.item().get('input')\n",
        "\n",
        "# test 데이터의 형태 확인\n",
        "print(\"Shape of 'test' data:\", test_4d.shape)"
      ],
      "metadata": {
        "colab": {
          "base_uri": "https://localhost:8080/"
        },
        "id": "l8bZA-NGC1m8",
        "outputId": "7a1376f2-9954-4dda-e671-fad01c621aa3"
      },
      "execution_count": 36,
      "outputs": [
        {
          "output_type": "stream",
          "name": "stdout",
          "text": [
            "Shape of 'test' data: (576, 1, 22, 1125)\n"
          ]
        }
      ]
    },
    {
      "cell_type": "code",
      "source": [
        "print(test_4d)"
      ],
      "metadata": {
        "colab": {
          "base_uri": "https://localhost:8080/"
        },
        "collapsed": true,
        "id": "g53UcSDsYRd4",
        "outputId": "76eb8007-518e-4567-ddbc-2ac261c4477f"
      },
      "execution_count": 12,
      "outputs": [
        {
          "output_type": "stream",
          "name": "stdout",
          "text": [
            "[[[[ -4.4921875   -5.859375     1.7578125  ...   9.03320312\n",
            "      8.64257812   4.8828125 ]\n",
            "   [ -3.515625    -5.37109375  -2.05078125 ...   7.56835938\n",
            "      9.765625     5.51757812]\n",
            "   [ -1.46484375  -5.078125     2.09960938 ...   7.2265625\n",
            "      6.8359375    2.78320312]\n",
            "   ...\n",
            "   [  4.24804688   1.02539062   7.37304688 ...   3.80859375\n",
            "      2.78320312   0.92773438]\n",
            "   [  5.81054688   2.29492188   9.03320312 ...   4.24804688\n",
            "      2.97851562   0.43945312]\n",
            "   [  5.95703125   1.26953125  10.05859375 ...   4.296875\n",
            "      3.85742188   1.31835938]]]\n",
            "\n",
            "\n",
            " [[[  0.43945312   5.41992188   5.02929688 ...  12.54882812\n",
            "     11.86523438  13.42773438]\n",
            "   [ -1.07421875   4.8828125    4.19921875 ...  13.0859375\n",
            "      8.984375    12.20703125]\n",
            "   [ -1.46484375   3.56445312   2.24609375 ...  12.3046875\n",
            "     11.37695312  13.91601562]\n",
            "   ...\n",
            "   [-10.10742188  -1.46484375  -5.51757812 ...   3.75976562\n",
            "      2.68554688   6.73828125]\n",
            "   [ -9.765625    -3.36914062  -8.34960938 ...   3.07617188\n",
            "      2.39257812   5.56640625]\n",
            "   [-13.18359375  -3.27148438  -8.64257812 ...   1.171875\n",
            "      1.22070312   6.59179688]]]\n",
            "\n",
            "\n",
            " [[[ -1.3671875    1.46484375  -3.27148438 ... -10.49804688\n",
            "    -15.625      -14.89257812]\n",
            "   [  2.00195312   6.59179688   5.90820312 ...  -5.71289062\n",
            "    -11.03515625  -7.6171875 ]\n",
            "   [ -1.12304688   2.97851562  -0.5859375  ...  -6.59179688\n",
            "    -12.01171875 -12.45117188]\n",
            "   ...\n",
            "   [ -5.46875     -2.49023438   0.14648438 ...   1.5625\n",
            "     -2.5390625    1.66015625]\n",
            "   [ -7.2265625   -5.078125    -1.3671875  ...   1.5625\n",
            "     -1.31835938   3.95507812]\n",
            "   [ -3.46679688  -1.12304688   2.29492188 ...   2.24609375\n",
            "     -2.09960938   3.17382812]]]\n",
            "\n",
            "\n",
            " ...\n",
            "\n",
            "\n",
            " [[[-18.79882812 -23.046875   -23.14453125 ...   2.63671875\n",
            "      3.85742188  12.01171875]\n",
            "   [-16.40625    -18.40820312 -16.50390625 ...   5.90820312\n",
            "      4.00390625  13.33007812]\n",
            "   [-23.4375     -24.90234375 -24.65820312 ...   4.63867188\n",
            "      4.58984375  12.84179688]\n",
            "   ...\n",
            "   [-26.7578125  -28.17382812 -24.0234375  ...   6.0546875\n",
            "      5.22460938  11.03515625]\n",
            "   [-25.43945312 -27.00195312 -23.48632812 ...   3.95507812\n",
            "      2.24609375   6.34765625]\n",
            "   [-15.57617188 -17.87109375 -14.89257812 ...   7.27539062\n",
            "      5.56640625   9.42382812]]]\n",
            "\n",
            "\n",
            " [[[ -1.31835938   0.09765625  -1.46484375 ...  12.59765625\n",
            "      6.49414062  11.08398438]\n",
            "   [-11.03515625 -10.00976562  -9.1796875  ...  12.6953125\n",
            "      3.36914062   9.03320312]\n",
            "   [ -9.1796875   -7.421875    -9.13085938 ...  15.8203125\n",
            "      6.54296875  12.84179688]\n",
            "   ...\n",
            "   [-11.08398438 -12.06054688 -12.74414062 ...  22.8515625\n",
            "     18.359375    22.55859375]\n",
            "   [ -9.03320312 -12.109375   -13.03710938 ...  21.6796875\n",
            "     18.31054688  22.8515625 ]\n",
            "   [ -9.52148438 -12.15820312 -15.28320312 ...  24.16992188\n",
            "     19.97070312  26.171875  ]]]\n",
            "\n",
            "\n",
            " [[[  0.24414062  -1.70898438  -3.46679688 ...   6.39648438\n",
            "      2.1484375   -5.078125  ]\n",
            "   [  5.51757812  -5.56640625  -5.76171875 ...   1.66015625\n",
            "     -0.48828125  -6.00585938]\n",
            "   [  1.171875    -2.1484375   -4.00390625 ...   6.34765625\n",
            "      0.73242188  -5.22460938]\n",
            "   ...\n",
            "   [ 10.3515625    3.7109375   -0.68359375 ...  14.0625\n",
            "     12.79296875   6.640625  ]\n",
            "   [ 12.5          4.15039062  -2.05078125 ...  13.42773438\n",
            "     12.35351562   5.71289062]\n",
            "   [ 17.23632812   9.81445312   4.93164062 ...  15.4296875\n",
            "     15.4296875    9.61914062]]]]\n"
          ]
        }
      ]
    },
    {
      "cell_type": "code",
      "source": [
        "test = test_4d.squeeze()\n",
        "print(test.shape)"
      ],
      "metadata": {
        "colab": {
          "base_uri": "https://localhost:8080/"
        },
        "id": "C8VZ30HLXAqd",
        "outputId": "93eb5099-ab1c-4151-8533-daa428fb896b"
      },
      "execution_count": 37,
      "outputs": [
        {
          "output_type": "stream",
          "name": "stdout",
          "text": [
            "(576, 22, 1125)\n"
          ]
        }
      ]
    },
    {
      "cell_type": "markdown",
      "source": [
        "# 데이터 전처리"
      ],
      "metadata": {
        "id": "hL-4fsNVH83M"
      }
    },
    {
      "cell_type": "markdown",
      "source": [
        "Bandpass Filter"
      ],
      "metadata": {
        "id": "-5ElH56QLwlJ"
      }
    },
    {
      "cell_type": "code",
      "source": [
        "lowcut = 0.1\n",
        "highcut = 30.0\n",
        "fs = 250.0\n",
        "\n",
        "def butter_bandpass(lowcut, hightcut, fs, order = 5):\n",
        "  nyquist = 0.5*fs\n",
        "  low = lowcut/nyquist\n",
        "  high = highcut/nyquist\n",
        "  b, a = signal.butter(order, [low, high], btype = 'band')\n",
        "  return b, a\n",
        "\n",
        "def bandpass_filter(data, lowcut, highcut, fs, order = 5):\n",
        "  b, a = butter_bandpass(lowcut, highcut, fs, order = order)\n",
        "  y = signal.filtfilt(b, a, data, axis = -1)\n",
        "  return y"
      ],
      "metadata": {
        "id": "MA9m546fZVNX"
      },
      "execution_count": 38,
      "outputs": []
    },
    {
      "cell_type": "code",
      "source": [
        "train_input_filtered = np.zeros_like(train_input_3d)\n",
        "for i in range(train_input_3d.shape[0]):\n",
        "  for j in range(train_input_3d.shape[1]):\n",
        "    train_input_filtered[i, j, :] = bandpass_filter(train_input_3d[i, j, :], lowcut, highcut, fs)\n",
        "\n",
        "test_filtered = np.zeros_like(test)\n",
        "for i in range(test.shape[0]):\n",
        "  for j in range(test.shape[1]):\n",
        "    test_filtered[i, j, :] = bandpass_filter(test[i, j, :], lowcut, highcut, fs)"
      ],
      "metadata": {
        "id": "PIGLU1E-NBtI"
      },
      "execution_count": 39,
      "outputs": []
    },
    {
      "cell_type": "code",
      "source": [
        "print(f'Train input filtered shape: {train_input_filtered.shape}')\n",
        "print(f'Test filtered shape: {test_filtered.shape}')"
      ],
      "metadata": {
        "colab": {
          "base_uri": "https://localhost:8080/"
        },
        "id": "bWJv4RjBOeqt",
        "outputId": "cb3a386a-b906-4b2a-d3ef-d64283490c2a"
      },
      "execution_count": 40,
      "outputs": [
        {
          "output_type": "stream",
          "name": "stdout",
          "text": [
            "Train input filtered shape: (4608, 22, 1125)\n",
            "Test filtered shape: (576, 22, 1125)\n"
          ]
        }
      ]
    },
    {
      "cell_type": "markdown",
      "source": [
        "ICA"
      ],
      "metadata": {
        "id": "D4VID87Jkvg6"
      }
    },
    {
      "cell_type": "code",
      "source": [
        "\n",
        "# Verify the shapes before scaling\n",
        "print(\"Train shape before scaling:\", train_input_filtered.shape)\n",
        "print(\"Test shape before scaling:\", test_filtered.shape)\n",
        "\n",
        "# Channel-wise scaling\n",
        "scalers = {}\n",
        "for i in range(train_input_filtered.shape[1]):  # iterate over channels\n",
        "    scalers[i] = StandardScaler()\n",
        "    train_input_filtered[:, i, :] = scalers[i].fit_transform(train_input_filtered[:, i, :].reshape(-1, 1)).reshape(train_input_filtered.shape[0], train_input_filtered.shape[2])\n",
        "\n",
        "# Apply the same scalers to the test data\n",
        "for i in range(test_filtered.shape[1]):\n",
        "    test_filtered[:, i, :] = scalers[i].transform(test_filtered[:, i, :].reshape(-1, 1)).reshape(test_filtered.shape[0], test_filtered.shape[2])\n",
        "\n",
        "# Verify the shapes after scaling\n",
        "print(\"Train shape after scaling:\", train_input_filtered.shape)\n",
        "print(\"Test shape after scaling:\", test_filtered.shape)\n",
        "\n",
        "# Reshape for ICA\n",
        "n_samples_train = train_input_filtered.shape[0]\n",
        "n_samples_test = test_filtered.shape[0]\n",
        "n_channels = train_input_filtered.shape[1]\n",
        "n_time_steps = train_input_filtered.shape[2]\n",
        "\n",
        "X_train_reshaped = train_input_filtered.reshape(n_samples_train, -1)  # (samples, features)\n",
        "X_test_reshaped = test_filtered.reshape(n_samples_test, -1)  # (samples, features)\n",
        "\n",
        "# Verify the reshaped shapes\n",
        "print(\"Reshaped train shape:\", X_train_reshaped.shape)\n",
        "print(\"Reshaped test shape:\", X_test_reshaped.shape)\n",
        "\n",
        "# Apply ICA\n",
        "ica = FastICA(n_components=22, random_state=0)\n",
        "X_train_ica = ica.fit_transform(X_train_reshaped)\n",
        "\n",
        "# Apply ICA transformation to test data\n",
        "X_test_ica = ica.transform(X_test_reshaped)\n",
        "\n",
        "# Reshape back to original dimensions\n",
        "X_train_ica_reshaped = X_train_ica.reshape(n_samples_train, n_channels, -1)\n",
        "X_test_ica_reshaped = X_test_ica.reshape(n_samples_test, n_channels, -1)\n",
        "\n",
        "# Verify the final reshaped shapes\n",
        "print(\"ICA transformed train shape:\", X_train_ica_reshaped.shape)\n",
        "print(\"ICA transformed test shape:\", X_test_ica_reshaped.shape)"
      ],
      "metadata": {
        "colab": {
          "base_uri": "https://localhost:8080/"
        },
        "id": "-pHb91Wip5t6",
        "outputId": "8f020f74-f52a-45d8-f705-9c7083aed4a5"
      },
      "execution_count": 47,
      "outputs": [
        {
          "output_type": "stream",
          "name": "stdout",
          "text": [
            "Train shape before scaling: (4608, 22, 1125)\n",
            "Test shape before scaling: (576, 22, 1125)\n",
            "Train shape after scaling: (4608, 22, 1125)\n",
            "Test shape after scaling: (576, 22, 1125)\n",
            "Reshaped train shape: (4608, 24750)\n",
            "Reshaped test shape: (576, 24750)\n"
          ]
        },
        {
          "output_type": "stream",
          "name": "stderr",
          "text": [
            "/usr/local/lib/python3.10/dist-packages/sklearn/decomposition/_fastica.py:542: FutureWarning: Starting in v1.3, whiten='unit-variance' will be used by default.\n",
            "  warnings.warn(\n"
          ]
        },
        {
          "output_type": "stream",
          "name": "stdout",
          "text": [
            "ICA transformed train shape: (4608, 22, 1)\n",
            "ICA transformed test shape: (576, 22, 1)\n"
          ]
        }
      ]
    },
    {
      "cell_type": "markdown",
      "source": [
        "에포크 추출"
      ],
      "metadata": {
        "id": "Hcsx-cIjrfA8"
      }
    },
    {
      "cell_type": "code",
      "source": [
        "# Define epoch length\n",
        "epoch_length = 100  # Number of time steps per epoch\n",
        "\n",
        "# Function to segment data into epochs\n",
        "def create_epochs(data, epoch_length):\n",
        "    n_samples, n_channels, n_components = data.shape\n",
        "    # Calculate number of epochs that can be extracted\n",
        "    n_epochs = n_samples // epoch_length\n",
        "    # Reshape data to (n_epochs, epoch_length, n_channels, n_components)\n",
        "    epochs = data[:n_epochs * epoch_length].reshape(n_epochs, epoch_length, n_channels, n_components)\n",
        "    return epochs\n",
        "\n",
        "# Extract epochs from ICA-transformed data\n",
        "train_epochs = create_epochs(X_train_ica_reshaped, epoch_length)\n",
        "test_epochs = create_epochs(X_test_ica_reshaped, epoch_length)\n",
        "\n",
        "# Verify the shapes of the epochs\n",
        "print(\"Train epochs shape:\", train_epochs.shape)\n",
        "print(\"Test epochs shape:\", test_epochs.shape)"
      ],
      "metadata": {
        "colab": {
          "base_uri": "https://localhost:8080/"
        },
        "id": "VAjYTZfNrK_Q",
        "outputId": "48d394b7-fdaa-456c-9e4f-35344d3e4451"
      },
      "execution_count": 48,
      "outputs": [
        {
          "output_type": "stream",
          "name": "stdout",
          "text": [
            "Train epochs shape: (46, 100, 22, 1)\n",
            "Test epochs shape: (5, 100, 22, 1)\n"
          ]
        }
      ]
    },
    {
      "cell_type": "markdown",
      "source": [
        "정규화 및 표준화"
      ],
      "metadata": {
        "id": "Gm-jh4arrigD"
      }
    },
    {
      "cell_type": "code",
      "source": [
        "# Function to normalize epochs\n",
        "def normalize_epochs(epochs):\n",
        "    n_epochs, epoch_length, n_channels, n_components = epochs.shape\n",
        "    epochs_normalized = np.zeros_like(epochs)\n",
        "    scaler = MinMaxScaler()\n",
        "\n",
        "    for i in range(n_epochs):\n",
        "        for j in range(n_channels):\n",
        "            # Flatten the epoch data for normalization\n",
        "            epoch_flat = epochs[i, :, j, :].flatten()\n",
        "            # Normalize\n",
        "            epoch_normalized = scaler.fit_transform(epoch_flat.reshape(-1, 1)).flatten()\n",
        "            # Reshape back to original epoch shape\n",
        "            epochs_normalized[i, :, j, :] = epoch_normalized.reshape(epoch_length, n_components)\n",
        "\n",
        "    return epochs_normalized\n",
        "\n",
        "# Normalize train and test epochs\n",
        "train_epochs_normalized = normalize_epochs(train_epochs)\n",
        "test_epochs_normalized = normalize_epochs(test_epochs)\n",
        "\n",
        "# Verify the shapes and range of the normalized epochs\n",
        "print(\"Normalized train epochs shape:\", train_epochs_normalized.shape)\n",
        "print(\"Normalized test epochs shape:\", test_epochs_normalized.shape)\n",
        "\n",
        "# Verify the range of values\n",
        "print(\"Train epochs range:\", train_epochs_normalized.min(), train_epochs_normalized.max())\n",
        "print(\"Test epochs range:\", test_epochs_normalized.min(), test_epochs_normalized.max())"
      ],
      "metadata": {
        "colab": {
          "base_uri": "https://localhost:8080/"
        },
        "id": "Js2FpR3hrkvy",
        "outputId": "ad33b58b-9aa1-4fc9-bc8a-8ecd8f8fbd3b"
      },
      "execution_count": 50,
      "outputs": [
        {
          "output_type": "stream",
          "name": "stdout",
          "text": [
            "Normalized train epochs shape: (46, 100, 22, 1)\n",
            "Normalized test epochs shape: (5, 100, 22, 1)\n",
            "Train epochs range: 0.0 1.0000000000000002\n",
            "Test epochs range: 0.0 1.0000000000000002\n"
          ]
        }
      ]
    },
    {
      "cell_type": "markdown",
      "source": [
        "특성 추출"
      ],
      "metadata": {
        "id": "tbcxN76VsHhj"
      }
    },
    {
      "cell_type": "code",
      "source": [
        "from mne.decoding import CSP\n",
        "import numpy as np\n",
        "\n",
        "def compute_csp_features(train_epochs, test_epochs, labels_train, n_components=4):\n",
        "    # Reshape epochs to (n_samples, n_channels, n_times)\n",
        "    n_train_epochs, epoch_length, n_channels, _ = train_epochs.shape\n",
        "    n_test_epochs = test_epochs.shape[0]\n",
        "\n",
        "    # CSP expects input shape (n_samples, n_channels, n_times)\n",
        "    X_train = train_epochs.reshape(n_train_epochs, n_channels, epoch_length)\n",
        "    X_test = test_epochs.reshape(n_test_epochs, n_channels, epoch_length)\n",
        "\n",
        "    # Fit CSP on the training data\n",
        "    csp = CSP(n_components=n_components, reg=None, log=True)\n",
        "    X_train_csp = csp.fit_transform(X_train, labels_train)\n",
        "\n",
        "    # Apply CSP to test data\n",
        "    X_test_csp = csp.transform(X_test)\n",
        "\n",
        "    return X_train_csp, X_test_csp\n",
        "\n",
        "# 예제 사용 (train_label이 제공되었다고 가정)\n",
        "train_labels = np.random.randint(0, 2, 46)  # train_epochs의 샘플 수에 맞추어 레이블 생성\n",
        "test_labels = np.random.randint(0, 2, 5)    # test_epochs의 샘플 수에 맞추어 레이블 생성\n",
        "\n",
        "# CSP 특성 추출\n",
        "X_train_csp, X_test_csp = compute_csp_features(train_epochs_normalized, test_epochs_normalized, train_labels)\n",
        "\n",
        "# CSP 특성의 형태 확인\n",
        "print(\"CSP 학습 데이터 특성 형태:\", X_train_csp.shape)\n",
        "print(\"CSP 테스트 데이터 특성 형태:\", X_test_csp.shape)\n"
      ],
      "metadata": {
        "colab": {
          "base_uri": "https://localhost:8080/"
        },
        "id": "NS893qxjsG53",
        "outputId": "826f58cc-92ff-4838-d18f-8dbde38f159a"
      },
      "execution_count": 59,
      "outputs": [
        {
          "output_type": "stream",
          "name": "stdout",
          "text": [
            "Computing rank from data with rank=None\n",
            "    Using tolerance 0.79 (2.2e-16 eps * 22 dim * 1.6e+14  max singular value)\n",
            "    Estimated rank (data): 22\n",
            "    data: rank 22 computed from 22 data channels with 0 projectors\n",
            "Reducing data rank from 22 -> 22\n",
            "Estimating class=0 covariance using EMPIRICAL\n",
            "Done.\n",
            "Estimating class=1 covariance using EMPIRICAL\n",
            "Done.\n",
            "CSP 학습 데이터 특성 형태: (46, 4)\n",
            "CSP 테스트 데이터 특성 형태: (5, 4)\n"
          ]
        }
      ]
    },
    {
      "cell_type": "code",
      "source": [
        "def compute_psd_features(epochs, fs=250.0):\n",
        "    n_epochs, epoch_length, n_channels, _ = epochs.shape\n",
        "    psd_features = []\n",
        "\n",
        "    for epoch in range(n_epochs):\n",
        "        epoch_psd = []\n",
        "        for channel in range(n_channels):\n",
        "            f, Pxx = welch(epochs[epoch, :, channel, 0], fs=fs, nperseg=epoch_length)\n",
        "            epoch_psd.append(Pxx)\n",
        "        psd_features.append(np.array(epoch_psd))\n",
        "\n",
        "    psd_features = np.array(psd_features)\n",
        "    return psd_features\n",
        "\n",
        "# Compute PSD features\n",
        "train_psd_features = compute_psd_features(train_epochs_normalized)\n",
        "test_psd_features = compute_psd_features(test_epochs_normalized)\n",
        "\n",
        "# Verify the shapes of the PSD features\n",
        "print(\"PSD train features shape:\", train_psd_features.shape)\n",
        "print(\"PSD test features shape:\", test_psd_features.shape)"
      ],
      "metadata": {
        "colab": {
          "base_uri": "https://localhost:8080/"
        },
        "id": "nGGlgrUkst27",
        "outputId": "583e375c-d434-47e8-8d93-28a0eca6a3a4"
      },
      "execution_count": 55,
      "outputs": [
        {
          "output_type": "stream",
          "name": "stdout",
          "text": [
            "PSD train features shape: (46, 22, 51)\n",
            "PSD test features shape: (5, 22, 51)\n"
          ]
        }
      ]
    },
    {
      "cell_type": "code",
      "source": [
        "# Reshape PSD features to (n_samples, n_features)\n",
        "train_psd_features_flat = train_psd_features.reshape(train_psd_features.shape[0], -1)\n",
        "test_psd_features_flat = test_psd_features.reshape(test_psd_features.shape[0], -1)\n",
        "\n",
        "# Combine CSP and PSD features\n",
        "combined_train_features = np.hstack((X_train_csp, train_psd_features_flat))\n",
        "combined_test_features = np.hstack((X_test_csp, test_psd_features_flat))\n",
        "\n",
        "# Verify the shapes of the combined features\n",
        "print(\"Combined train features shape:\", combined_train_features.shape)\n",
        "print(\"Combined test features shape:\", combined_test_features.shape)"
      ],
      "metadata": {
        "colab": {
          "base_uri": "https://localhost:8080/"
        },
        "id": "eBTxxxrqsytn",
        "outputId": "f382bd0e-a84e-4156-c58e-6485c2e6a079"
      },
      "execution_count": 60,
      "outputs": [
        {
          "output_type": "stream",
          "name": "stdout",
          "text": [
            "Combined train features shape: (46, 1126)\n",
            "Combined test features shape: (5, 1126)\n"
          ]
        }
      ]
    },
    {
      "cell_type": "markdown",
      "source": [
        "# 모델"
      ],
      "metadata": {
        "id": "KVTsqaj_d8Hu"
      }
    },
    {
      "cell_type": "markdown",
      "source": [
        "Random Forest"
      ],
      "metadata": {
        "id": "Ck0J0mjjeaHR"
      }
    },
    {
      "cell_type": "code",
      "source": [
        "# 랜덤 포레스트 모델 생성\n",
        "rf_model = RandomForestClassifier(n_estimators=100, random_state=42)\n",
        "\n",
        "# k-겹 교차 검증 설정 (예: k=5)\n",
        "k = 5\n",
        "kf = KFold(n_splits=k, shuffle=True, random_state=42)\n",
        "\n",
        "# 교차 검증 수행 및 성능 평가\n",
        "scores = cross_val_score(rf_model, combined_train_features, train_labels, cv=kf, scoring='accuracy')\n",
        "\n",
        "# 결과 출력\n",
        "print(f'{k}-겹 교차 검증 정확도: {scores}')\n",
        "print(f'평균 정확도: {np.mean(scores)}')\n",
        "print(f'표준편차: {np.std(scores)}')\n",
        "\n",
        "# 학습 데이터 전체를 사용하여 모델 학습\n",
        "rf_model.fit(combined_train_features, train_labels)\n",
        "\n",
        "# 테스트 데이터 예측\n",
        "test_predictions = rf_model.predict(combined_test_features)\n",
        "\n",
        "# 결과 출력\n",
        "print(\"테스트 데이터 예측 결과:\", test_predictions)"
      ],
      "metadata": {
        "colab": {
          "base_uri": "https://localhost:8080/"
        },
        "id": "hiYuDeK5hxvX",
        "outputId": "6b5f7bc9-90a4-4733-df9d-0c8324a94b81"
      },
      "execution_count": 63,
      "outputs": [
        {
          "output_type": "stream",
          "name": "stdout",
          "text": [
            "5-겹 교차 검증 정확도: [0.7        0.44444444 0.55555556 0.44444444 0.55555556]\n",
            "평균 정확도: 0.54\n",
            "표준편차: 0.09417608933518706\n",
            "테스트 데이터 예측 결과: [0 1 0 0 1]\n"
          ]
        }
      ]
    },
    {
      "cell_type": "markdown",
      "source": [
        "# TSNE"
      ],
      "metadata": {
        "id": "JDJ1T-owh9gz"
      }
    },
    {
      "cell_type": "code",
      "source": [
        "# TSNE 모델 생성 및 변환 수행\n",
        "tsne = TSNE(n_components=2, random_state=42)\n",
        "X_test_tsne = tsne.fit_transform(combined_test_features)\n",
        "\n",
        "# 시각화\n",
        "plt.figure(figsize=(10, 5))\n",
        "\n",
        "# 예측 결과에 따라 색을 다르게 하여 점을 그림\n",
        "for target in np.unique(test_predictions):\n",
        "    indices = np.where(test_predictions == target)\n",
        "    plt.scatter(X_test_tsne[indices, 0], X_test_tsne[indices, 1], label=f'Target {target}')\n",
        "\n",
        "plt.legend()\n",
        "plt.title('t-SNE visualization of test data predictions')\n",
        "plt.xlabel('t-SNE 1')\n",
        "plt.ylabel('t-SNE 2')\n",
        "plt.show()"
      ],
      "metadata": {
        "colab": {
          "base_uri": "https://localhost:8080/",
          "height": 356
        },
        "id": "fZoZpEmBi9Sg",
        "outputId": "d0a12c4f-eae4-4435-f0f4-ae9a17a32e0c"
      },
      "execution_count": 65,
      "outputs": [
        {
          "output_type": "error",
          "ename": "ValueError",
          "evalue": "perplexity must be less than n_samples",
          "traceback": [
            "\u001b[0;31m---------------------------------------------------------------------------\u001b[0m",
            "\u001b[0;31mValueError\u001b[0m                                Traceback (most recent call last)",
            "\u001b[0;32m<ipython-input-65-0f6918ec9e41>\u001b[0m in \u001b[0;36m<cell line: 3>\u001b[0;34m()\u001b[0m\n\u001b[1;32m      1\u001b[0m \u001b[0;31m# TSNE 모델 생성 및 변환 수행\u001b[0m\u001b[0;34m\u001b[0m\u001b[0;34m\u001b[0m\u001b[0m\n\u001b[1;32m      2\u001b[0m \u001b[0mtsne\u001b[0m \u001b[0;34m=\u001b[0m \u001b[0mTSNE\u001b[0m\u001b[0;34m(\u001b[0m\u001b[0mn_components\u001b[0m\u001b[0;34m=\u001b[0m\u001b[0;36m2\u001b[0m\u001b[0;34m,\u001b[0m \u001b[0mrandom_state\u001b[0m\u001b[0;34m=\u001b[0m\u001b[0;36m42\u001b[0m\u001b[0;34m)\u001b[0m\u001b[0;34m\u001b[0m\u001b[0;34m\u001b[0m\u001b[0m\n\u001b[0;32m----> 3\u001b[0;31m \u001b[0mX_test_tsne\u001b[0m \u001b[0;34m=\u001b[0m \u001b[0mtsne\u001b[0m\u001b[0;34m.\u001b[0m\u001b[0mfit_transform\u001b[0m\u001b[0;34m(\u001b[0m\u001b[0mcombined_test_features\u001b[0m\u001b[0;34m)\u001b[0m\u001b[0;34m\u001b[0m\u001b[0;34m\u001b[0m\u001b[0m\n\u001b[0m\u001b[1;32m      4\u001b[0m \u001b[0;34m\u001b[0m\u001b[0m\n\u001b[1;32m      5\u001b[0m \u001b[0;31m# 시각화\u001b[0m\u001b[0;34m\u001b[0m\u001b[0;34m\u001b[0m\u001b[0m\n",
            "\u001b[0;32m/usr/local/lib/python3.10/dist-packages/sklearn/manifold/_t_sne.py\u001b[0m in \u001b[0;36mfit_transform\u001b[0;34m(self, X, y)\u001b[0m\n\u001b[1;32m   1116\u001b[0m         \"\"\"\n\u001b[1;32m   1117\u001b[0m         \u001b[0mself\u001b[0m\u001b[0;34m.\u001b[0m\u001b[0m_validate_params\u001b[0m\u001b[0;34m(\u001b[0m\u001b[0;34m)\u001b[0m\u001b[0;34m\u001b[0m\u001b[0;34m\u001b[0m\u001b[0m\n\u001b[0;32m-> 1118\u001b[0;31m         \u001b[0mself\u001b[0m\u001b[0;34m.\u001b[0m\u001b[0m_check_params_vs_input\u001b[0m\u001b[0;34m(\u001b[0m\u001b[0mX\u001b[0m\u001b[0;34m)\u001b[0m\u001b[0;34m\u001b[0m\u001b[0;34m\u001b[0m\u001b[0m\n\u001b[0m\u001b[1;32m   1119\u001b[0m         \u001b[0membedding\u001b[0m \u001b[0;34m=\u001b[0m \u001b[0mself\u001b[0m\u001b[0;34m.\u001b[0m\u001b[0m_fit\u001b[0m\u001b[0;34m(\u001b[0m\u001b[0mX\u001b[0m\u001b[0;34m)\u001b[0m\u001b[0;34m\u001b[0m\u001b[0;34m\u001b[0m\u001b[0m\n\u001b[1;32m   1120\u001b[0m         \u001b[0mself\u001b[0m\u001b[0;34m.\u001b[0m\u001b[0membedding_\u001b[0m \u001b[0;34m=\u001b[0m \u001b[0membedding\u001b[0m\u001b[0;34m\u001b[0m\u001b[0;34m\u001b[0m\u001b[0m\n",
            "\u001b[0;32m/usr/local/lib/python3.10/dist-packages/sklearn/manifold/_t_sne.py\u001b[0m in \u001b[0;36m_check_params_vs_input\u001b[0;34m(self, X)\u001b[0m\n\u001b[1;32m    827\u001b[0m     \u001b[0;32mdef\u001b[0m \u001b[0m_check_params_vs_input\u001b[0m\u001b[0;34m(\u001b[0m\u001b[0mself\u001b[0m\u001b[0;34m,\u001b[0m \u001b[0mX\u001b[0m\u001b[0;34m)\u001b[0m\u001b[0;34m:\u001b[0m\u001b[0;34m\u001b[0m\u001b[0;34m\u001b[0m\u001b[0m\n\u001b[1;32m    828\u001b[0m         \u001b[0;32mif\u001b[0m \u001b[0mself\u001b[0m\u001b[0;34m.\u001b[0m\u001b[0mperplexity\u001b[0m \u001b[0;34m>=\u001b[0m \u001b[0mX\u001b[0m\u001b[0;34m.\u001b[0m\u001b[0mshape\u001b[0m\u001b[0;34m[\u001b[0m\u001b[0;36m0\u001b[0m\u001b[0;34m]\u001b[0m\u001b[0;34m:\u001b[0m\u001b[0;34m\u001b[0m\u001b[0;34m\u001b[0m\u001b[0m\n\u001b[0;32m--> 829\u001b[0;31m             \u001b[0;32mraise\u001b[0m \u001b[0mValueError\u001b[0m\u001b[0;34m(\u001b[0m\u001b[0;34m\"perplexity must be less than n_samples\"\u001b[0m\u001b[0;34m)\u001b[0m\u001b[0;34m\u001b[0m\u001b[0;34m\u001b[0m\u001b[0m\n\u001b[0m\u001b[1;32m    830\u001b[0m \u001b[0;34m\u001b[0m\u001b[0m\n\u001b[1;32m    831\u001b[0m     \u001b[0;32mdef\u001b[0m \u001b[0m_fit\u001b[0m\u001b[0;34m(\u001b[0m\u001b[0mself\u001b[0m\u001b[0;34m,\u001b[0m \u001b[0mX\u001b[0m\u001b[0;34m,\u001b[0m \u001b[0mskip_num_points\u001b[0m\u001b[0;34m=\u001b[0m\u001b[0;36m0\u001b[0m\u001b[0;34m)\u001b[0m\u001b[0;34m:\u001b[0m\u001b[0;34m\u001b[0m\u001b[0;34m\u001b[0m\u001b[0m\n",
            "\u001b[0;31mValueError\u001b[0m: perplexity must be less than n_samples"
          ]
        }
      ]
    },
    {
      "cell_type": "code",
      "source": [],
      "metadata": {
        "id": "Xyi5Dzk0i9vI"
      },
      "execution_count": null,
      "outputs": []
    }
  ]
}