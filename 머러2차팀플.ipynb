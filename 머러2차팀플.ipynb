{
  "nbformat": 4,
  "nbformat_minor": 0,
  "metadata": {
    "colab": {
      "provenance": [],
      "authorship_tag": "ABX9TyOj/YupKRnaNosm6BO2a40i",
      "include_colab_link": true
    },
    "kernelspec": {
      "name": "python3",
      "display_name": "Python 3"
    },
    "language_info": {
      "name": "python"
    }
  },
  "cells": [
    {
      "cell_type": "markdown",
      "metadata": {
        "id": "view-in-github",
        "colab_type": "text"
      },
      "source": [
        "<a href=\"https://colab.research.google.com/github/Nayeongseo/ML1-TeamProject-2/blob/main/%EB%A8%B8%EB%9F%AC2%EC%B0%A8%ED%8C%80%ED%94%8C.ipynb\" target=\"_parent\"><img src=\"https://colab.research.google.com/assets/colab-badge.svg\" alt=\"Open In Colab\"/></a>"
      ]
    },
    {
      "cell_type": "code",
      "execution_count": 32,
      "metadata": {
        "id": "cv-yCPND61x2"
      },
      "outputs": [],
      "source": [
        "import pandas as pd\n",
        "import numpy as np\n",
        "import matplotlib.pyplot as plt\n",
        "import seaborn as sns\n",
        "from scipy.signal import welch\n",
        "import scipy.signal as signal\n",
        "from sklearn.preprocessing import StandardScaler\n",
        "from sklearn.ensemble import RandomForestClassifier\n",
        "from sklearn.model_selection import cross_val_score\n",
        "from sklearn.model_selection import train_test_split\n",
        "from sklearn.metrics import accuracy_score\n",
        "from sklearn.manifold import TSNE"
      ]
    },
    {
      "cell_type": "markdown",
      "source": [
        "# train data의 input과 label 추출"
      ],
      "metadata": {
        "id": "0axw3lzfFGjY"
      }
    },
    {
      "cell_type": "code",
      "source": [
        "train_path = np.load('train.npy', allow_pickle='TRUE')"
      ],
      "metadata": {
        "id": "CTwR0ruh7YWs"
      },
      "execution_count": 15,
      "outputs": []
    },
    {
      "cell_type": "code",
      "source": [
        "print(f\"Value: {train_path}\")"
      ],
      "metadata": {
        "colab": {
          "base_uri": "https://localhost:8080/"
        },
        "collapsed": true,
        "id": "mGxcUJC0MUJd",
        "outputId": "aebef203-6a3d-40f7-ad5d-4035eae87c96"
      },
      "execution_count": 16,
      "outputs": [
        {
          "output_type": "stream",
          "name": "stdout",
          "text": [
            "Value: {'input': array([[[[  3.80859375,  -2.63671875, -10.64453125, ...,  -6.39648438,\n",
            "           -2.34375   ,  -7.56835938],\n",
            "         [  3.66210938,  -2.49023438,  -8.0078125 , ...,  -4.15039062,\n",
            "           -2.39257812,  -7.66601562],\n",
            "         [  2.9296875 ,  -5.22460938, -12.45117188, ...,  -7.2265625 ,\n",
            "           -4.6875    , -10.88867188],\n",
            "         ...,\n",
            "         [  2.97851562,  -7.91015625,  -9.375     , ...,  -7.421875  ,\n",
            "           -7.47070312, -15.57617188],\n",
            "         [  4.73632812,  -6.93359375,  -8.93554688, ...,  -5.95703125,\n",
            "           -5.61523438, -12.3046875 ],\n",
            "         [  1.5625    ,  -9.22851562,  -9.08203125, ...,  -4.19921875,\n",
            "           -5.76171875, -12.98828125]]],\n",
            "\n",
            "\n",
            "       [[[ -6.20117188,   1.51367188,   4.00390625, ...,  -3.36914062,\n",
            "           -8.83789062,  -9.91210938],\n",
            "         [-10.44921875,  -5.61523438,   0.83007812, ...,  -9.1796875 ,\n",
            "          -12.109375  , -14.11132812],\n",
            "         [ -6.68945312,   0.53710938,   4.58984375, ...,  -5.859375  ,\n",
            "          -10.9375    , -10.9375    ],\n",
            "         ...,\n",
            "         [  9.1796875 ,  12.45117188,  17.72460938, ...,   3.07617188,\n",
            "           -1.66015625,  -4.98046875],\n",
            "         [  9.13085938,  13.33007812,  16.74804688, ...,   7.03125   ,\n",
            "            2.1484375 ,  -0.14648438],\n",
            "         [  7.12890625,   9.9609375 ,  12.5       , ...,   5.71289062,\n",
            "            0.09765625,  -3.41796875]]],\n",
            "\n",
            "\n",
            "       [[[  8.93554688,   7.47070312,  11.08398438, ...,  -0.29296875,\n",
            "            0.87890625,   4.4921875 ],\n",
            "         [  4.63867188,   5.46875   ,  11.37695312, ...,  -0.34179688,\n",
            "           -0.1953125 ,   3.3203125 ],\n",
            "         [  8.25195312,   6.4453125 ,  11.9140625 , ...,   3.80859375,\n",
            "            1.85546875,   5.81054688],\n",
            "         ...,\n",
            "         [  5.02929688,   4.8828125 ,  12.59765625, ...,   2.78320312,\n",
            "            0.78125   ,   4.93164062],\n",
            "         [  3.85742188,   4.05273438,  13.81835938, ...,   3.22265625,\n",
            "            1.3671875 ,   6.15234375],\n",
            "         [  2.05078125,   1.07421875,  10.546875  , ...,   0.87890625,\n",
            "           -2.9296875 ,   0.34179688]]],\n",
            "\n",
            "\n",
            "       ...,\n",
            "\n",
            "\n",
            "       [[[  6.20117188,  12.3046875 ,  12.01171875, ..., -10.9375    ,\n",
            "           -4.73632812,  -5.6640625 ],\n",
            "         [  2.58789062,  11.66992188,  12.109375  , ...,  -7.08007812,\n",
            "           -7.66601562,  -4.34570312],\n",
            "         [  4.8828125 ,  12.890625  ,  11.18164062, ..., -10.88867188,\n",
            "           -6.8359375 ,  -7.6171875 ],\n",
            "         ...,\n",
            "         [ 11.62109375,  19.43359375,  22.265625  , ...,  -6.39648438,\n",
            "           -3.125     ,  -6.59179688],\n",
            "         [ 14.50195312,  22.265625  ,  26.41601562, ..., -13.96484375,\n",
            "          -12.06054688, -15.33203125],\n",
            "         [ 16.50390625,  26.171875  ,  30.859375  , ...,  -6.54296875,\n",
            "           -4.98046875,  -8.203125  ]]],\n",
            "\n",
            "\n",
            "       [[[ 20.703125  ,  17.33398438,  15.18554688, ...,  -6.640625  ,\n",
            "           -5.17578125,  -3.46679688],\n",
            "         [ 28.41796875,  27.24609375,  27.97851562, ..., -10.9375    ,\n",
            "          -14.30664062,  -8.74023438],\n",
            "         [ 24.85351562,  22.36328125,  20.45898438, ..., -10.9375    ,\n",
            "           -9.81445312,  -7.08007812],\n",
            "         ...,\n",
            "         [ 21.58203125,  15.625     ,  10.83984375, ...,  -9.5703125 ,\n",
            "          -12.06054688, -13.671875  ],\n",
            "         [ 20.60546875,  13.81835938,   9.91210938, ...,  -6.00585938,\n",
            "          -10.25390625, -11.23046875],\n",
            "         [ 20.94726562,  16.69921875,  13.76953125, ..., -13.81835938,\n",
            "          -22.02148438, -24.609375  ]]],\n",
            "\n",
            "\n",
            "       [[[ -6.39648438,  -7.51953125, -10.7421875 , ...,   4.6875    ,\n",
            "            0.390625  ,   4.93164062],\n",
            "         [ -4.8828125 ,  -8.44726562, -11.81640625, ...,   9.61914062,\n",
            "           11.1328125 ,  12.35351562],\n",
            "         [ -5.078125  ,  -8.10546875, -11.27929688, ...,   7.37304688,\n",
            "            4.63867188,  10.15625   ],\n",
            "         ...,\n",
            "         [  2.44140625,   5.81054688,   6.8359375 , ...,   5.6640625 ,\n",
            "            5.078125  ,   8.34960938],\n",
            "         [  5.22460938,   9.42382812,  12.01171875, ...,   5.2734375 ,\n",
            "            1.51367188,   2.78320312],\n",
            "         [ 12.45117188,  17.72460938,  20.01953125, ...,   9.32617188,\n",
            "           10.44921875,  16.06445312]]]]), 'label': array([[0., 0., 0., 1.],\n",
            "       [0., 0., 1., 0.],\n",
            "       [0., 1., 0., 0.],\n",
            "       ...,\n",
            "       [0., 0., 1., 0.],\n",
            "       [1., 0., 0., 0.],\n",
            "       [0., 0., 1., 0.]], dtype=float32)}\n"
          ]
        }
      ]
    },
    {
      "cell_type": "code",
      "source": [
        "# train_path에서 'input'과 'label' 데이터 추출\n",
        "train_input = train_path.item()['input']\n",
        "train_label = train_path.item()['label']\n",
        "\n",
        "# 'input' 데이터의 형태 확인\n",
        "print(\"Shape of 'input' data:\", train_input.shape)\n",
        "\n",
        "# 'input' 데이터를 4차원 배열로 변환\n",
        "num_samples = train_input.shape[0]  # 샘플 수\n",
        "num_channels = 1  # 채널 수 (EEG 데이터의 경우 채널이 하나이므로 1)\n",
        "num_time_steps = train_input.shape[2]  # 시간 단계 수\n",
        "num_features = train_input.shape[3]  # 특징 수\n",
        "\n",
        "# 4차원 배열을 생성하여 데이터 복사\n",
        "train_input_4d = np.zeros((num_samples, num_channels, num_time_steps, num_features))\n",
        "for i in range(num_samples):\n",
        "    train_input_4d[i, 0, :, :] = train_input[i, 0, :, :]\n",
        "\n",
        "# 변환된 'input' 데이터의 형태 확인\n",
        "print(\"Shape of 'input' data (4D):\", train_input_4d.shape)\n",
        "\n",
        "# 'label' 데이터의 형태 확인\n",
        "print(\"Shape of 'label' data:\", train_label.shape)"
      ],
      "metadata": {
        "colab": {
          "base_uri": "https://localhost:8080/"
        },
        "id": "0D-hedMNT34Z",
        "outputId": "7fc89e68-8297-43cb-aadf-b0daf17edaca"
      },
      "execution_count": 17,
      "outputs": [
        {
          "output_type": "stream",
          "name": "stdout",
          "text": [
            "Shape of 'input' data: (4608, 1, 22, 1125)\n",
            "Shape of 'input' data (4D): (4608, 1, 22, 1125)\n",
            "Shape of 'label' data: (4608, 4)\n"
          ]
        }
      ]
    },
    {
      "cell_type": "code",
      "source": [
        "print(train_input_4d)"
      ],
      "metadata": {
        "colab": {
          "base_uri": "https://localhost:8080/"
        },
        "collapsed": true,
        "id": "jeXPQ_XDYWPi",
        "outputId": "8005cf81-ff5b-4333-ee4d-7cfaa99b136f"
      },
      "execution_count": null,
      "outputs": [
        {
          "output_type": "stream",
          "name": "stdout",
          "text": [
            "[[[[  3.80859375  -2.63671875 -10.64453125 ...  -6.39648438\n",
            "     -2.34375     -7.56835938]\n",
            "   [  3.66210938  -2.49023438  -8.0078125  ...  -4.15039062\n",
            "     -2.39257812  -7.66601562]\n",
            "   [  2.9296875   -5.22460938 -12.45117188 ...  -7.2265625\n",
            "     -4.6875     -10.88867188]\n",
            "   ...\n",
            "   [  2.97851562  -7.91015625  -9.375      ...  -7.421875\n",
            "     -7.47070312 -15.57617188]\n",
            "   [  4.73632812  -6.93359375  -8.93554688 ...  -5.95703125\n",
            "     -5.61523438 -12.3046875 ]\n",
            "   [  1.5625      -9.22851562  -9.08203125 ...  -4.19921875\n",
            "     -5.76171875 -12.98828125]]]\n",
            "\n",
            "\n",
            " [[[ -6.20117188   1.51367188   4.00390625 ...  -3.36914062\n",
            "     -8.83789062  -9.91210938]\n",
            "   [-10.44921875  -5.61523438   0.83007812 ...  -9.1796875\n",
            "    -12.109375   -14.11132812]\n",
            "   [ -6.68945312   0.53710938   4.58984375 ...  -5.859375\n",
            "    -10.9375     -10.9375    ]\n",
            "   ...\n",
            "   [  9.1796875   12.45117188  17.72460938 ...   3.07617188\n",
            "     -1.66015625  -4.98046875]\n",
            "   [  9.13085938  13.33007812  16.74804688 ...   7.03125\n",
            "      2.1484375   -0.14648438]\n",
            "   [  7.12890625   9.9609375   12.5        ...   5.71289062\n",
            "      0.09765625  -3.41796875]]]\n",
            "\n",
            "\n",
            " [[[  8.93554688   7.47070312  11.08398438 ...  -0.29296875\n",
            "      0.87890625   4.4921875 ]\n",
            "   [  4.63867188   5.46875     11.37695312 ...  -0.34179688\n",
            "     -0.1953125    3.3203125 ]\n",
            "   [  8.25195312   6.4453125   11.9140625  ...   3.80859375\n",
            "      1.85546875   5.81054688]\n",
            "   ...\n",
            "   [  5.02929688   4.8828125   12.59765625 ...   2.78320312\n",
            "      0.78125      4.93164062]\n",
            "   [  3.85742188   4.05273438  13.81835938 ...   3.22265625\n",
            "      1.3671875    6.15234375]\n",
            "   [  2.05078125   1.07421875  10.546875   ...   0.87890625\n",
            "     -2.9296875    0.34179688]]]\n",
            "\n",
            "\n",
            " ...\n",
            "\n",
            "\n",
            " [[[  6.20117188  12.3046875   12.01171875 ... -10.9375\n",
            "     -4.73632812  -5.6640625 ]\n",
            "   [  2.58789062  11.66992188  12.109375   ...  -7.08007812\n",
            "     -7.66601562  -4.34570312]\n",
            "   [  4.8828125   12.890625    11.18164062 ... -10.88867188\n",
            "     -6.8359375   -7.6171875 ]\n",
            "   ...\n",
            "   [ 11.62109375  19.43359375  22.265625   ...  -6.39648438\n",
            "     -3.125       -6.59179688]\n",
            "   [ 14.50195312  22.265625    26.41601562 ... -13.96484375\n",
            "    -12.06054688 -15.33203125]\n",
            "   [ 16.50390625  26.171875    30.859375   ...  -6.54296875\n",
            "     -4.98046875  -8.203125  ]]]\n",
            "\n",
            "\n",
            " [[[ 20.703125    17.33398438  15.18554688 ...  -6.640625\n",
            "     -5.17578125  -3.46679688]\n",
            "   [ 28.41796875  27.24609375  27.97851562 ... -10.9375\n",
            "    -14.30664062  -8.74023438]\n",
            "   [ 24.85351562  22.36328125  20.45898438 ... -10.9375\n",
            "     -9.81445312  -7.08007812]\n",
            "   ...\n",
            "   [ 21.58203125  15.625       10.83984375 ...  -9.5703125\n",
            "    -12.06054688 -13.671875  ]\n",
            "   [ 20.60546875  13.81835938   9.91210938 ...  -6.00585938\n",
            "    -10.25390625 -11.23046875]\n",
            "   [ 20.94726562  16.69921875  13.76953125 ... -13.81835938\n",
            "    -22.02148438 -24.609375  ]]]\n",
            "\n",
            "\n",
            " [[[ -6.39648438  -7.51953125 -10.7421875  ...   4.6875\n",
            "      0.390625     4.93164062]\n",
            "   [ -4.8828125   -8.44726562 -11.81640625 ...   9.61914062\n",
            "     11.1328125   12.35351562]\n",
            "   [ -5.078125    -8.10546875 -11.27929688 ...   7.37304688\n",
            "      4.63867188  10.15625   ]\n",
            "   ...\n",
            "   [  2.44140625   5.81054688   6.8359375  ...   5.6640625\n",
            "      5.078125     8.34960938]\n",
            "   [  5.22460938   9.42382812  12.01171875 ...   5.2734375\n",
            "      1.51367188   2.78320312]\n",
            "   [ 12.45117188  17.72460938  20.01953125 ...   9.32617188\n",
            "     10.44921875  16.06445312]]]]\n"
          ]
        }
      ]
    },
    {
      "cell_type": "code",
      "source": [
        "train_input_3d = train_input_4d.squeeze()\n",
        "print(train_input_3d.shape)"
      ],
      "metadata": {
        "colab": {
          "base_uri": "https://localhost:8080/"
        },
        "id": "0AA76GmrXT9f",
        "outputId": "ac577c66-40b2-4400-dd80-19751f0792e9"
      },
      "execution_count": 18,
      "outputs": [
        {
          "output_type": "stream",
          "name": "stdout",
          "text": [
            "(4608, 22, 1125)\n"
          ]
        }
      ]
    },
    {
      "cell_type": "markdown",
      "source": [
        "# test data의 input 추출"
      ],
      "metadata": {
        "id": "crmjkfR_EmW0"
      }
    },
    {
      "cell_type": "code",
      "source": [
        "test_path = np.load('test.npy', allow_pickle='TRUE')"
      ],
      "metadata": {
        "id": "FitELOaO7xk1"
      },
      "execution_count": 2,
      "outputs": []
    },
    {
      "cell_type": "code",
      "source": [
        "# 'input' 데이터만 추출하여 test 데이터 생성\n",
        "test_4d = test_path.item().get('input')\n",
        "\n",
        "# test 데이터의 형태 확인\n",
        "print(\"Shape of 'test' data:\", test_4d.shape)"
      ],
      "metadata": {
        "colab": {
          "base_uri": "https://localhost:8080/"
        },
        "id": "l8bZA-NGC1m8",
        "outputId": "cc3b7c87-0f85-42d8-baa9-2b5ee9587ba0"
      },
      "execution_count": 11,
      "outputs": [
        {
          "output_type": "stream",
          "name": "stdout",
          "text": [
            "Shape of 'test' data: (576, 1, 22, 1125)\n"
          ]
        }
      ]
    },
    {
      "cell_type": "code",
      "source": [
        "print(test_4d)"
      ],
      "metadata": {
        "colab": {
          "base_uri": "https://localhost:8080/"
        },
        "collapsed": true,
        "id": "g53UcSDsYRd4",
        "outputId": "76eb8007-518e-4567-ddbc-2ac261c4477f"
      },
      "execution_count": 12,
      "outputs": [
        {
          "output_type": "stream",
          "name": "stdout",
          "text": [
            "[[[[ -4.4921875   -5.859375     1.7578125  ...   9.03320312\n",
            "      8.64257812   4.8828125 ]\n",
            "   [ -3.515625    -5.37109375  -2.05078125 ...   7.56835938\n",
            "      9.765625     5.51757812]\n",
            "   [ -1.46484375  -5.078125     2.09960938 ...   7.2265625\n",
            "      6.8359375    2.78320312]\n",
            "   ...\n",
            "   [  4.24804688   1.02539062   7.37304688 ...   3.80859375\n",
            "      2.78320312   0.92773438]\n",
            "   [  5.81054688   2.29492188   9.03320312 ...   4.24804688\n",
            "      2.97851562   0.43945312]\n",
            "   [  5.95703125   1.26953125  10.05859375 ...   4.296875\n",
            "      3.85742188   1.31835938]]]\n",
            "\n",
            "\n",
            " [[[  0.43945312   5.41992188   5.02929688 ...  12.54882812\n",
            "     11.86523438  13.42773438]\n",
            "   [ -1.07421875   4.8828125    4.19921875 ...  13.0859375\n",
            "      8.984375    12.20703125]\n",
            "   [ -1.46484375   3.56445312   2.24609375 ...  12.3046875\n",
            "     11.37695312  13.91601562]\n",
            "   ...\n",
            "   [-10.10742188  -1.46484375  -5.51757812 ...   3.75976562\n",
            "      2.68554688   6.73828125]\n",
            "   [ -9.765625    -3.36914062  -8.34960938 ...   3.07617188\n",
            "      2.39257812   5.56640625]\n",
            "   [-13.18359375  -3.27148438  -8.64257812 ...   1.171875\n",
            "      1.22070312   6.59179688]]]\n",
            "\n",
            "\n",
            " [[[ -1.3671875    1.46484375  -3.27148438 ... -10.49804688\n",
            "    -15.625      -14.89257812]\n",
            "   [  2.00195312   6.59179688   5.90820312 ...  -5.71289062\n",
            "    -11.03515625  -7.6171875 ]\n",
            "   [ -1.12304688   2.97851562  -0.5859375  ...  -6.59179688\n",
            "    -12.01171875 -12.45117188]\n",
            "   ...\n",
            "   [ -5.46875     -2.49023438   0.14648438 ...   1.5625\n",
            "     -2.5390625    1.66015625]\n",
            "   [ -7.2265625   -5.078125    -1.3671875  ...   1.5625\n",
            "     -1.31835938   3.95507812]\n",
            "   [ -3.46679688  -1.12304688   2.29492188 ...   2.24609375\n",
            "     -2.09960938   3.17382812]]]\n",
            "\n",
            "\n",
            " ...\n",
            "\n",
            "\n",
            " [[[-18.79882812 -23.046875   -23.14453125 ...   2.63671875\n",
            "      3.85742188  12.01171875]\n",
            "   [-16.40625    -18.40820312 -16.50390625 ...   5.90820312\n",
            "      4.00390625  13.33007812]\n",
            "   [-23.4375     -24.90234375 -24.65820312 ...   4.63867188\n",
            "      4.58984375  12.84179688]\n",
            "   ...\n",
            "   [-26.7578125  -28.17382812 -24.0234375  ...   6.0546875\n",
            "      5.22460938  11.03515625]\n",
            "   [-25.43945312 -27.00195312 -23.48632812 ...   3.95507812\n",
            "      2.24609375   6.34765625]\n",
            "   [-15.57617188 -17.87109375 -14.89257812 ...   7.27539062\n",
            "      5.56640625   9.42382812]]]\n",
            "\n",
            "\n",
            " [[[ -1.31835938   0.09765625  -1.46484375 ...  12.59765625\n",
            "      6.49414062  11.08398438]\n",
            "   [-11.03515625 -10.00976562  -9.1796875  ...  12.6953125\n",
            "      3.36914062   9.03320312]\n",
            "   [ -9.1796875   -7.421875    -9.13085938 ...  15.8203125\n",
            "      6.54296875  12.84179688]\n",
            "   ...\n",
            "   [-11.08398438 -12.06054688 -12.74414062 ...  22.8515625\n",
            "     18.359375    22.55859375]\n",
            "   [ -9.03320312 -12.109375   -13.03710938 ...  21.6796875\n",
            "     18.31054688  22.8515625 ]\n",
            "   [ -9.52148438 -12.15820312 -15.28320312 ...  24.16992188\n",
            "     19.97070312  26.171875  ]]]\n",
            "\n",
            "\n",
            " [[[  0.24414062  -1.70898438  -3.46679688 ...   6.39648438\n",
            "      2.1484375   -5.078125  ]\n",
            "   [  5.51757812  -5.56640625  -5.76171875 ...   1.66015625\n",
            "     -0.48828125  -6.00585938]\n",
            "   [  1.171875    -2.1484375   -4.00390625 ...   6.34765625\n",
            "      0.73242188  -5.22460938]\n",
            "   ...\n",
            "   [ 10.3515625    3.7109375   -0.68359375 ...  14.0625\n",
            "     12.79296875   6.640625  ]\n",
            "   [ 12.5          4.15039062  -2.05078125 ...  13.42773438\n",
            "     12.35351562   5.71289062]\n",
            "   [ 17.23632812   9.81445312   4.93164062 ...  15.4296875\n",
            "     15.4296875    9.61914062]]]]\n"
          ]
        }
      ]
    },
    {
      "cell_type": "code",
      "source": [
        "test = test_4d.squeeze()\n",
        "print(test.shape)"
      ],
      "metadata": {
        "colab": {
          "base_uri": "https://localhost:8080/"
        },
        "id": "C8VZ30HLXAqd",
        "outputId": "56c6771f-0d23-4200-c8f7-34e7e9fc5494"
      },
      "execution_count": 14,
      "outputs": [
        {
          "output_type": "stream",
          "name": "stdout",
          "text": [
            "(576, 22, 1125)\n"
          ]
        }
      ]
    },
    {
      "cell_type": "markdown",
      "source": [
        "# 데이터 전처리"
      ],
      "metadata": {
        "id": "hL-4fsNVH83M"
      }
    },
    {
      "cell_type": "markdown",
      "source": [
        "Bandpass Filter"
      ],
      "metadata": {
        "id": "-5ElH56QLwlJ"
      }
    },
    {
      "cell_type": "code",
      "source": [
        "lowcut = 0.1\n",
        "highcut = 30.0\n",
        "fs = 250.0\n",
        "\n",
        "def butter_bandpass(lowcut, hightcut, fs, order = 5):\n",
        "  nyquist = 0.5*fs\n",
        "  low = lowcut/nyquist\n",
        "  high = highcut/nyquist\n",
        "  b, a = signal.butter(order, [low, high], btype = 'band')\n",
        "  return b, a\n",
        "\n",
        "def bandpass_filter(data, lowcut, highcut, fs, order = 5):\n",
        "  b, a = butter_bandpass(lowcut, highcut, fs, order = order)\n",
        "  y = signal.filtfilt(b, a, data, axis = -1)\n",
        "  return y"
      ],
      "metadata": {
        "id": "MA9m546fZVNX"
      },
      "execution_count": 10,
      "outputs": []
    },
    {
      "cell_type": "code",
      "source": [
        "train_input_filtered = np.zeros_like(train_input_3d)\n",
        "for i in range(train_input_3d.shape[0]):\n",
        "  for j in range(train_input_3d.shape[1]):\n",
        "    train_input_filtered[i, j, :] = bandpass_filter(train_input_3d[i, j, :], lowcut, highcut, fs)\n",
        "\n",
        "test_filtered = np.zeros_like(test)\n",
        "for i in range(test.shape[0]):\n",
        "  for j in range(test.shape[1]):\n",
        "    test_filtered[i, j, :] = bandpass_filter(test[i, j, :], lowcut, highcut, fs)"
      ],
      "metadata": {
        "id": "PIGLU1E-NBtI"
      },
      "execution_count": 21,
      "outputs": []
    },
    {
      "cell_type": "code",
      "source": [
        "print(f'Train input filtered shape: {train_input_filtered.shape}')\n",
        "print(f'Test filtered shape: {test_filtered.shape}')"
      ],
      "metadata": {
        "colab": {
          "base_uri": "https://localhost:8080/"
        },
        "id": "bWJv4RjBOeqt",
        "outputId": "cdb168d8-f003-4c41-a073-42b2a7c70f1d"
      },
      "execution_count": 22,
      "outputs": [
        {
          "output_type": "stream",
          "name": "stdout",
          "text": [
            "Train input filtered shape: (4608, 22, 1125)\n",
            "Test filtered shape: (576, 22, 1125)\n"
          ]
        }
      ]
    },
    {
      "cell_type": "markdown",
      "source": [
        "PSD"
      ],
      "metadata": {
        "id": "xxmPtJKaYjS3"
      }
    },
    {
      "cell_type": "code",
      "source": [
        "def scale_datasets(train_data, test_data):\n",
        "    # 채널 수에 맞는 StandardScaler 객체 리스트 생성\n",
        "    scalers = [StandardScaler() for _ in range(train_data.shape[1])]\n",
        "\n",
        "    # Train 데이터에 대해 채널별로 fit 및 transform 수행\n",
        "    scaled_train_data = np.zeros_like(train_data)\n",
        "    for i in range(train_data.shape[1]):\n",
        "        # 채널별 데이터 추출 (모든 예시, 특정 채널, 모든 시간)\n",
        "        channel_data = train_data[:, i, :].reshape(-1, train_data.shape[2])\n",
        "        # fit_transform을 사용하여 scaling 후 원래 모양으로 변환\n",
        "        scaled_train_data[:, i, :] = scalers[i].fit_transform(channel_data).reshape(-1, train_data.shape[2])\n",
        "\n",
        "    # Test 데이터에 대해 채널별로 transform 수행 (fit은 수행하지 않음)\n",
        "    scaled_test_data = np.zeros_like(test_data)\n",
        "    for i in range(test_data.shape[1]):\n",
        "        # 채널별 데이터 추출\n",
        "        channel_data = test_data[:, i, :].reshape(-1, test_data.shape[2])\n",
        "        # transform을 사용하여 scaling 후 원래 모양으로 변환\n",
        "        scaled_test_data[:, i, :] = scalers[i].transform(channel_data).reshape(-1, test_data.shape[2])\n",
        "\n",
        "    return scaled_train_data, scaled_test_data"
      ],
      "metadata": {
        "id": "uqnSvS6addwa"
      },
      "execution_count": 25,
      "outputs": []
    },
    {
      "cell_type": "code",
      "source": [
        "scaled_train_data, scaled_test_data = scale_datasets(train_input_filtered, test_filtered)\n",
        "\n",
        "print(\"Scaled Train Data Shape:\", scaled_train_data.shape)\n",
        "print(\"Scaled Test Data Shape:\", scaled_test_data.shape)"
      ],
      "metadata": {
        "colab": {
          "base_uri": "https://localhost:8080/"
        },
        "id": "Wvxk1ie6drkV",
        "outputId": "d7cea639-53bf-4d87-dc12-2e6ea2a6313c"
      },
      "execution_count": 26,
      "outputs": [
        {
          "output_type": "stream",
          "name": "stdout",
          "text": [
            "Scaled Train Data Shape: (4608, 22, 1125)\n",
            "Scaled Test Data Shape: (576, 22, 1125)\n"
          ]
        }
      ]
    },
    {
      "cell_type": "markdown",
      "source": [
        "# 모델"
      ],
      "metadata": {
        "id": "KVTsqaj_d8Hu"
      }
    },
    {
      "cell_type": "markdown",
      "source": [
        "Random Forest"
      ],
      "metadata": {
        "id": "Ck0J0mjjeaHR"
      }
    },
    {
      "cell_type": "code",
      "source": [
        "# 트레이닝 데이터의 형태를 (4608, 22*1125)로 변환\n",
        "X = scaled_train_data.reshape(scaled_train_data.shape[0], -1)\n",
        "\n",
        "# 레이블 데이터 준비 (예시에서는 최대값 인덱스를 클래스 레이블로 사용)\n",
        "# 실제 사용 시 레이블 데이터 형태에 맞게 조정 필요\n",
        "y = np.argmax(train_label, axis=1)\n",
        "\n",
        "# 랜덤 포레스트 모델 생성\n",
        "rf = RandomForestClassifier(n_estimators=100, random_state=42)\n",
        "\n",
        "# 5-겹 교차 검증 수행\n",
        "cv_scores = cross_val_score(rf, X, y, cv=5)\n",
        "\n",
        "# 교차 검증 결과 출력\n",
        "print(\"교차 검증 정확도 점수: \", cv_scores)\n",
        "print(\"평균 정확도: {:.4f}\".format(np.mean(cv_scores)))"
      ],
      "metadata": {
        "colab": {
          "base_uri": "https://localhost:8080/"
        },
        "id": "OV_VVwK-etxi",
        "outputId": "0ecb9e7a-a1e8-4c9e-9f55-4ab793147dcb"
      },
      "execution_count": 29,
      "outputs": [
        {
          "output_type": "stream",
          "name": "stdout",
          "text": [
            "교차 검증 정확도 점수:  [0.3329718  0.3329718  0.329718   0.33984799 0.30076004]\n",
            "평균 정확도: 0.3273\n"
          ]
        }
      ]
    },
    {
      "cell_type": "code",
      "source": [
        "# 트레이닝 데이터의 형태를 변경\n",
        "X_train = scaled_train_data.reshape(scaled_train_data.shape[0], -1)\n",
        "y_train = np.argmax(train_label, axis=1)\n",
        "\n",
        "# 테스트 데이터의 형태를 변경\n",
        "X_test = scaled_test_data.reshape(scaled_test_data.shape[0], -1)\n",
        "\n",
        "# 랜덤 포레스트 모델 생성 및 트레이닝 데이터에 대해 학습\n",
        "rf = RandomForestClassifier(n_estimators=100, random_state=42)\n",
        "rf.fit(X_train, y_train)\n",
        "\n",
        "# 테스트 데이터에 대한 예측 수행\n",
        "predictions = rf.predict(X_test)\n",
        "\n",
        "# 예측 결과를 pandas DataFrame으로 변환\n",
        "results_df = pd.DataFrame({\n",
        "    'ID': range(len(predictions)),\n",
        "    'TARGET': predictions\n",
        "})\n",
        "\n",
        "# 결과를 CSV 파일로 저장\n",
        "results_df.to_csv('submissions.csv', index=False)\n",
        "\n",
        "print(\"예측 결과가 'submissions.csv' 파일로 저장되었습니다.\")"
      ],
      "metadata": {
        "colab": {
          "base_uri": "https://localhost:8080/"
        },
        "id": "JakZ6iMjfmLG",
        "outputId": "62eb6262-f3b2-4f2c-be89-bde2dfd50f4e"
      },
      "execution_count": 30,
      "outputs": [
        {
          "output_type": "stream",
          "name": "stdout",
          "text": [
            "예측 결과가 'submissions.csv' 파일로 저장되었습니다.\n"
          ]
        }
      ]
    },
    {
      "cell_type": "code",
      "source": [],
      "metadata": {
        "id": "hiYuDeK5hxvX"
      },
      "execution_count": null,
      "outputs": []
    },
    {
      "cell_type": "markdown",
      "source": [
        "# TSNE"
      ],
      "metadata": {
        "id": "JDJ1T-owh9gz"
      }
    },
    {
      "cell_type": "code",
      "source": [
        "# TSNE 모델 생성 및 변환 수행\n",
        "tsne = TSNE(n_components=2, random_state=42)\n",
        "X_test_tsne = tsne.fit_transform(X_test)\n",
        "\n",
        "# 시각화\n",
        "plt.figure(figsize=(10, 5))\n",
        "\n",
        "# 예측 결과에 따라 색을 다르게 하여 점을 그림\n",
        "for target in np.unique(predictions):\n",
        "    indices = np.where(predictions == target)\n",
        "    plt.scatter(X_test_tsne[indices, 0], X_test_tsne[indices, 1], label=f'Target {target}')\n",
        "\n",
        "plt.legend()\n",
        "plt.title('t-SNE visualization of test data predictions')\n",
        "plt.xlabel('t-SNE 1')\n",
        "plt.ylabel('t-SNE 2')\n",
        "plt.show()"
      ],
      "metadata": {
        "colab": {
          "base_uri": "https://localhost:8080/",
          "height": 507
        },
        "id": "fZoZpEmBi9Sg",
        "outputId": "bccbaa4b-846e-4e54-86ff-25ec48badd1b"
      },
      "execution_count": 33,
      "outputs": [
        {
          "output_type": "display_data",
          "data": {
            "text/plain": [
              "<Figure size 1000x500 with 1 Axes>"
            ],
            "image/png": "[encoded data removed]"
          },
          "metadata": {}
        }
      ]
    },
    {
      "cell_type": "code",
      "source": [],
      "metadata": {
        "id": "Xyi5Dzk0i9vI"
      },
      "execution_count": null,
      "outputs": []
    }
  ]
}